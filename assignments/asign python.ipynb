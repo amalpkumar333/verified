{
 "cells": [
  {
   "cell_type": "markdown",
   "metadata": {},
   "source": [
    "# 1.Multiply the two matrices.\n"
   ]
  },
  {
   "cell_type": "code",
   "execution_count": 35,
   "metadata": {},
   "outputs": [
    {
     "name": "stdout",
     "output_type": "stream",
     "text": [
      "[37, 51, 44, 45]\n",
      "[57, 83, 84, 102]\n",
      "[84, 124, 132, 171]\n"
     ]
    }
   ],
   "source": [
    "A = [[1, 4, 3], \n",
    "    [3, 5, 6], \n",
    "    [6, 7, 9]] \n",
    " \n",
    "B = [[1, 2, 5, 12], \n",
    "    [6, 7, 3, 0], \n",
    "    [4, 7, 9, 11]]  \n",
    "result = [[sum(a * b for a, b in zip(A_row, B_col))  \n",
    "                        for B_col in zip(*B)] \n",
    "                                for A_row in A] \n",
    "  \n",
    "for r in result: \n",
    "    print(r) "
   ]
  },
  {
   "cell_type": "markdown",
   "metadata": {},
   "source": [
    "# Extract all numbers divisible by 3 from the array\n",
    "Input:\n",
    "arr = np.array([0, 1, 2, 3, 4, 5, 6, 7, 8, 9,10,11,12])\n",
    "Desired output:\n",
    "#> array([3,6,9,12])\n"
   ]
  },
  {
   "cell_type": "code",
   "execution_count": 72,
   "metadata": {},
   "outputs": [],
   "source": [
    "import numpy as np\n",
    "arr = np.array([0, 1, 2, 3, 4, 5, 6, 7, 8, 9,10,11,12])"
   ]
  },
  {
   "cell_type": "code",
   "execution_count": 73,
   "metadata": {},
   "outputs": [
    {
     "data": {
      "text/plain": [
       "array([ 0,  1,  2,  3,  4,  5,  6,  7,  8,  9, 10, 11, 12])"
      ]
     },
     "execution_count": 73,
     "metadata": {},
     "output_type": "execute_result"
    }
   ],
   "source": [
    "arr"
   ]
  },
  {
   "cell_type": "code",
   "execution_count": 77,
   "metadata": {},
   "outputs": [
    {
     "data": {
      "text/plain": [
       "array([ 0,  3,  6,  9, 12])"
      ]
     },
     "execution_count": 77,
     "metadata": {},
     "output_type": "execute_result"
    }
   ],
   "source": [
    "arr[arr %3==0]"
   ]
  },
  {
   "cell_type": "markdown",
   "metadata": {},
   "source": [
    "# How to get the unique common items between two python numpy arrays?\n",
    "Q. Get the unique common items between a and b\n",
    "Input:\n",
    "a = np.array([1,2,3,2,3,4,3,4,5,6])\n",
    "b = np.array([7,2,10,2,7,4,9,4,9,8])\n",
    "Desired Output:\n",
    "array([2, 4])\n"
   ]
  },
  {
   "cell_type": "code",
   "execution_count": 75,
   "metadata": {},
   "outputs": [
    {
     "data": {
      "text/plain": [
       "array([2, 4])"
      ]
     },
     "execution_count": 75,
     "metadata": {},
     "output_type": "execute_result"
    }
   ],
   "source": [
    "import numpy as np\n",
    "a = np.array([1,2,3,2,3,4,3,4,5,6]) \n",
    "b = np.array([7,2,10,2,7,4,9,4,9,8])\n",
    "np.intersect1d(a,b)"
   ]
  },
  {
   "cell_type": "markdown",
   "metadata": {},
   "source": [
    "# How to remove from one array those items that exist in another?\n",
    "Q. From array a remove all items present in array b\n",
    "Input:\n",
    "a = np.array([1,2,3,4,5,11,22,33,44,55])\n",
    "b = np.array([5,6,7,8,9,10,11])\n",
    "Desired Output:\n",
    "array([1,2,3,4,22,33,44,55])\n"
   ]
  },
  {
   "cell_type": "code",
   "execution_count": 78,
   "metadata": {},
   "outputs": [
    {
     "data": {
      "text/plain": [
       "array([ 1,  2,  3,  4, 22, 33, 44, 55])"
      ]
     },
     "execution_count": 78,
     "metadata": {},
     "output_type": "execute_result"
    }
   ],
   "source": [
    "\n",
    "a = np.array([1,2,3,4,5,11,22,33,44,55]) \n",
    "b = np.array([5,6,7,8,9,10,11]) \n",
    "np.setdiff1d(a,b)"
   ]
  },
  {
   "cell_type": "markdown",
   "metadata": {},
   "source": [
    "# How to get the positions where elements of two arrays match?\n",
    "Q. Get the positions where elements of a and b match\n",
    "Input:\n",
    "a = np.array([1,2,3,2,3,4,3,4,5,6])\n",
    "b = np.array([7,2,10,2,7,4,9,4,9,8])\n",
    "Desired Output:\n",
    "#> (array([1, 3, 5, 7]))\n"
   ]
  },
  {
   "cell_type": "code",
   "execution_count": 81,
   "metadata": {},
   "outputs": [
    {
     "data": {
      "text/plain": [
       "(array([1, 3, 5, 7], dtype=int64),)"
      ]
     },
     "execution_count": 81,
     "metadata": {},
     "output_type": "execute_result"
    }
   ],
   "source": [
    "a = np.array([1,2,3,2,3,4,3,4,5,6])\n",
    "b = np.array([7,2,10,2,7,4,9,4,9,8])\n",
    "np.where(a==b)"
   ]
  },
  {
   "cell_type": "markdown",
   "metadata": {},
   "source": [
    "# How to create a 2D array containing random floats between 10 and 25?\n",
    "Q. Create a 2D array of shape 5x3 to contain random decimal numbers between 10 and 25.\n"
   ]
  },
  {
   "cell_type": "code",
   "execution_count": 82,
   "metadata": {},
   "outputs": [
    {
     "data": {
      "text/plain": [
       "array([[10.0228087 , 20.84936232, 23.6282021 ],\n",
       "       [15.16531618, 19.66751318, 21.50738202],\n",
       "       [18.57505587, 10.04515354, 14.21525808],\n",
       "       [11.95804452, 20.53571036, 17.82078231],\n",
       "       [23.89436485, 10.85305402, 10.28099743]])"
      ]
     },
     "execution_count": 82,
     "metadata": {},
     "output_type": "execute_result"
    }
   ],
   "source": [
    "a=np.random.uniform(low=10, high=25,size=(5,3))\n",
    "a\n"
   ]
  },
  {
   "cell_type": "markdown",
   "metadata": {},
   "source": [
    "# Take a string as input. Create a new string that is the reverse of the first string.\n",
    "    A =”Hello”\n",
    "    Result = “olleH”\n"
   ]
  },
  {
   "cell_type": "code",
   "execution_count": 93,
   "metadata": {},
   "outputs": [
    {
     "name": "stdout",
     "output_type": "stream",
     "text": [
      "Hello\n"
     ]
    },
    {
     "data": {
      "text/plain": [
       "'olleH'"
      ]
     },
     "execution_count": 93,
     "metadata": {},
     "output_type": "execute_result"
    }
   ],
   "source": [
    "a=\"Hello\"\n",
    "print(a)\n",
    "a[::-1]"
   ]
  },
  {
   "cell_type": "markdown",
   "metadata": {},
   "source": [
    "# Write a Python program to remove the first occurrence of a specified element  (ex 7 ) from an array.\n",
    "   Repeat the same for all occurrences of 7\n"
   ]
  },
  {
   "cell_type": "code",
   "execution_count": 3,
   "metadata": {},
   "outputs": [
    {
     "name": "stdout",
     "output_type": "stream",
     "text": [
      "array('i', [1, 3, 7, 3, 7, 1, 9, 7, 3])\n",
      "Remove the first occurrence of 7 from the said array:\n",
      "New array: array('i', [1, 3, 3, 7, 1, 9, 7, 3])\n"
     ]
    }
   ],
   "source": [
    "from array import *\n",
    "array_num = array('i', [1, 3, 7, 3, 7, 1, 9,7, 3])\n",
    "print(str(array_num))\n",
    "print(\"Remove the first occurrence of 7 from the said array:\")\n",
    "array_num.remove(7)\n",
    "print(\"New array: \"+str(array_num))"
   ]
  },
  {
   "cell_type": "markdown",
   "metadata": {},
   "source": [
    "# Write a Python program that iterate over elements repeating each as many times as its count."
   ]
  },
  {
   "cell_type": "code",
   "execution_count": null,
   "metadata": {},
   "outputs": [],
   "source": []
  },
  {
   "cell_type": "markdown",
   "metadata": {},
   "source": [
    "# Write a Python program to find the occurrences of 10 most common words in a given text.\n",
    "Do the same for words which are at least 4 characters long.\n"
   ]
  },
  {
   "cell_type": "code",
   "execution_count": null,
   "metadata": {},
   "outputs": [],
   "source": []
  },
  {
   "cell_type": "markdown",
   "metadata": {},
   "source": [
    "# Create a python program to generate the Fibonocci series."
   ]
  },
  {
   "cell_type": "code",
   "execution_count": 1,
   "metadata": {},
   "outputs": [
    {
     "name": "stdout",
     "output_type": "stream",
     "text": [
      "Enter the number of terms15\n",
      "0 1 1 2 3 5 8 13 21 34 55 89 144 233 377 "
     ]
    }
   ],
   "source": [
    "n = input('Enter the number of terms')\n",
    "def fibo(n):\n",
    "    if n <= 1:\n",
    "        return n\n",
    "    else:\n",
    "        return(fibo(n-1) + fibo(n-2))\n",
    "\n",
    "for i in range(int(n)):\n",
    "    print(fibo(i), end=' ')"
   ]
  },
  {
   "cell_type": "code",
   "execution_count": null,
   "metadata": {},
   "outputs": [],
   "source": []
  }
 ],
 "metadata": {
  "kernelspec": {
   "display_name": "Python 3",
   "language": "python",
   "name": "python3"
  },
  "language_info": {
   "codemirror_mode": {
    "name": "ipython",
    "version": 3
   },
   "file_extension": ".py",
   "mimetype": "text/x-python",
   "name": "python",
   "nbconvert_exporter": "python",
   "pygments_lexer": "ipython3",
   "version": "3.7.4"
  }
 },
 "nbformat": 4,
 "nbformat_minor": 2
}
